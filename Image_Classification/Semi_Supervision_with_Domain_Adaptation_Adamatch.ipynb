{
  "nbformat": 4,
  "nbformat_minor": 0,
  "metadata": {
    "colab": {
      "name": "Semi Supervision with Domain Adaptation: Adamatch",
      "provenance": []
    },
    "kernelspec": {
      "name": "python3",
      "display_name": "Python 3"
    },
    "language_info": {
      "name": "python"
    }
  },
  "cells": [
    {
      "cell_type": "markdown",
      "source": [
        "### What is semi Supervised Learning? \n",
        "\n",
        "Semi Supervised learning involves labelled training data and unlabelled target data where labelled training data is considered to be from the same set as unlabelled target data. In this particular training we take both of these data and train them together. Semi-Supervised Learning is combination of supervised and unsupervised learning processes in which the unlabelled data is used for training a model as well. In this approach, the properties of unspervised learning are used to learn the best possible representation of data and the properties of supervised learning are used to learn the relationships in the representations which are then used to make predictions.\n",
        "\n",
        "### What is unsupervised domain adaptation ? \n",
        "\n",
        "In case of unsupervised domain adaptation the train and target data are not taken from the same sample i.e it is difficult to establish that train and target data are equal. Only train data is labelled and target data is not labelled. \n",
        "\n",
        "### What is semi-supervised domain adaptation ? \n",
        "\n",
        "Some target data is also labelled in this case but here also the train and target data are not considered equal i.e not sampled from same population. "
      ],
      "metadata": {
        "id": "tkT1Dstdhlk4"
      }
    },
    {
      "cell_type": "markdown",
      "source": [
        "The key for semi supervised algorithms is teh data augmentation which produces various images of the same domain with several augmentations. Image augmentation can be done in various manner and its one of the intresting techniques to explore. I will prepare a separate notebook form image augmentation and how that can be achieved. "
      ],
      "metadata": {
        "id": "cwb_dadphrdc"
      }
    },
    {
      "cell_type": "markdown",
      "source": [
        "### Must Watch video for compelte understadning : https://www.youtube.com/watch?v=ORufPOY8H14  , https://www.youtube.com/watch?v=t4ZK2mhfIn8"
      ],
      "metadata": {
        "id": "L-xEt4S7hsXA"
      }
    },
    {
      "cell_type": "markdown",
      "source": [
        "Please follow this keras notebook : https://keras.io/examples/vision/adamatch/"
      ],
      "metadata": {
        "id": "0W4Xsca8hw-3"
      }
    },
    {
      "cell_type": "markdown",
      "source": [
        "This example requires TensorFlow 2.5 or higher, as well as TensorFlow Models, which can be installed using the following command:"
      ],
      "metadata": {
        "id": "t9-Q42bJh0PO"
      }
    },
    {
      "cell_type": "code",
      "execution_count": 1,
      "metadata": {
        "colab": {
          "base_uri": "https://localhost:8080/"
        },
        "id": "QUr33Cc9hjbV",
        "outputId": "48ea90de-3808-4137-9547-0917619926f5"
      },
      "outputs": [
        {
          "output_type": "stream",
          "name": "stdout",
          "text": [
            "\u001b[K     |████████████████████████████████| 2.1 MB 30.7 MB/s \n",
            "\u001b[K     |████████████████████████████████| 352 kB 43.0 MB/s \n",
            "\u001b[K     |████████████████████████████████| 511.7 MB 5.1 kB/s \n",
            "\u001b[K     |████████████████████████████████| 636 kB 50.1 MB/s \n",
            "\u001b[K     |████████████████████████████████| 238 kB 55.6 MB/s \n",
            "\u001b[K     |████████████████████████████████| 1.1 MB 45.4 MB/s \n",
            "\u001b[K     |████████████████████████████████| 4.6 MB 56.2 MB/s \n",
            "\u001b[K     |████████████████████████████████| 99 kB 9.9 MB/s \n",
            "\u001b[K     |████████████████████████████████| 116 kB 44.9 MB/s \n",
            "\u001b[K     |████████████████████████████████| 1.3 MB 33.1 MB/s \n",
            "\u001b[K     |████████████████████████████████| 43 kB 1.9 MB/s \n",
            "\u001b[K     |████████████████████████████████| 1.6 MB 51.2 MB/s \n",
            "\u001b[K     |████████████████████████████████| 5.8 MB 49.8 MB/s \n",
            "\u001b[K     |████████████████████████████████| 438 kB 45.4 MB/s \n",
            "\u001b[?25h  Building wheel for py-cpuinfo (setup.py) ... \u001b[?25l\u001b[?25hdone\n",
            "  Building wheel for seqeval (setup.py) ... \u001b[?25l\u001b[?25hdone\n"
          ]
        }
      ],
      "source": [
        "!pip install -q tf-models-official"
      ]
    },
    {
      "cell_type": "markdown",
      "source": [
        "## Preliminaries\n",
        "\n",
        "In **semi-supervised learning (SSL)**, we use a small amount of labeled data to\n",
        "train models on a bigger unlabeled dataset. Popular semi-supervised learning methods\n",
        "for computer vision include [FixMatch](https://arxiv.org/abs/2001.07685),\n",
        "[MixMatch](https://arxiv.org/abs/1905.02249),\n",
        "[Noisy Student Training](https://arxiv.org/abs/1911.04252), etc. You can refer to\n",
        "[this example](https://keras.io/examples/vision/consistency_training/) to get an idea\n",
        "of what a standard SSL workflow looks like.\n",
        "\n",
        "In **unsupervised domain adaptation**, we have access to a source labeled dataset and\n",
        "a target *unlabeled* dataset. Then the task is to learn a model that can generalize well\n",
        "to the target dataset. The source and the target datasets vary in terms of distribution.\n",
        "The following figure provides an illustration of this idea. In the present example, we use the\n",
        "[MNIST dataset](http://yann.lecun.com/exdb/mnist/) as the source dataset, while the target dataset is\n",
        "[SVHN](http://ufldl.stanford.edu/housenumbers/), which consists of images of house\n",
        "numbers. Both datasets have various varying factors in terms of texture, viewpoint,\n",
        "appearence, etc.: their domains, or distributions, are different from one\n",
        "another.\n",
        "\n",
        "![](https://i.imgur.com/dJFSJuT.png)\n",
        "\n",
        "Popular domain adaptation algorithms in deep learning include\n",
        "[Deep CORAL](https://arxiv.org/abs/1612.01939),\n",
        "[Moment Matching](https://arxiv.org/abs/1812.01754), etc."
      ],
      "metadata": {
        "id": "cTJz6wz5h88q"
      }
    },
    {
      "cell_type": "markdown",
      "source": [
        "Initially the augment.py file was in image_classification but it has now moved to ops. "
      ],
      "metadata": {
        "id": "2pFrgFj0i4uk"
      }
    },
    {
      "cell_type": "code",
      "source": [
        "import tensorflow as tf\n",
        "\n",
        "tf.random.set_seed(42)\n",
        "\n",
        "import numpy as np\n",
        "\n",
        "from tensorflow import keras\n",
        "from tensorflow.keras import layers\n",
        "from tensorflow.keras import regularizers\n",
        "from official.vision.ops.augment import RandAugment\n",
        "\n",
        "import tensorflow_datasets as tfds\n",
        "\n",
        "tfds.disable_progress_bar()"
      ],
      "metadata": {
        "id": "OgG-gzHYiw8P"
      },
      "execution_count": 3,
      "outputs": []
    },
    {
      "cell_type": "code",
      "source": [
        "# MNIST\n",
        "(\n",
        "    (mnist_x_train, mnist_y_train),\n",
        "    (mnist_x_test, mnist_y_test),\n",
        ") = keras.datasets.mnist.load_data()\n",
        "\n",
        "# Add a channel dimension\n",
        "mnist_x_train = tf.expand_dims(mnist_x_train, -1)\n",
        "mnist_x_test = tf.expand_dims(mnist_x_test, -1)\n",
        "\n",
        "# Convert the labels to one-hot encoded vectors\n",
        "mnist_y_train = tf.one_hot(mnist_y_train, 10).numpy()\n",
        "\n",
        "# SVHN\n",
        "svhn_train, svhn_test = tfds.load(\n",
        "    \"svhn_cropped\", split=[\"train\", \"test\"], as_supervised=True\n",
        ")"
      ],
      "metadata": {
        "colab": {
          "base_uri": "https://localhost:8080/"
        },
        "id": "LD08WyPXi2OU",
        "outputId": "26e2eab9-f6ed-4ee0-8553-fe51b7ea82a2"
      },
      "execution_count": 4,
      "outputs": [
        {
          "output_type": "stream",
          "name": "stdout",
          "text": [
            "Downloading data from https://storage.googleapis.com/tensorflow/tf-keras-datasets/mnist.npz\n",
            "11490434/11490434 [==============================] - 0s 0us/step\n",
            "\u001b[1mDownloading and preparing dataset 1.47 GiB (download: 1.47 GiB, generated: Unknown size, total: 1.47 GiB) to ~/tensorflow_datasets/svhn_cropped/3.0.0...\u001b[0m\n",
            "\u001b[1mDataset svhn_cropped downloaded and prepared to ~/tensorflow_datasets/svhn_cropped/3.0.0. Subsequent calls will reuse this data.\u001b[0m\n"
          ]
        }
      ]
    },
    {
      "cell_type": "markdown",
      "source": [
        "## Define constants and hyperparameters\n",
        "\n",
        "---\n"
      ],
      "metadata": {
        "id": "-To90z9PjF8s"
      }
    },
    {
      "cell_type": "code",
      "source": [
        "RESIZE_TO = 32\n",
        "\n",
        "SOURCE_BATCH_SIZE = 64\n",
        "TARGET_BATCH_SIZE = 3 * SOURCE_BATCH_SIZE  # Reference: Section 3.2\n",
        "EPOCHS = 10\n",
        "STEPS_PER_EPOCH = len(mnist_x_train) // SOURCE_BATCH_SIZE\n",
        "TOTAL_STEPS = EPOCHS * STEPS_PER_EPOCH\n",
        "\n",
        "AUTO = tf.data.AUTOTUNE\n",
        "LEARNING_RATE = 0.03\n",
        "\n",
        "WEIGHT_DECAY = 0.0005\n",
        "INIT = \"he_normal\"\n",
        "DEPTH = 28\n",
        "WIDTH_MULT = 2"
      ],
      "metadata": {
        "id": "YhrIX-j3i_2s"
      },
      "execution_count": 5,
      "outputs": []
    },
    {
      "cell_type": "markdown",
      "source": [
        "## Data augmentation utilities\n",
        "\n",
        "A standard element of SSL algorithms is to feed weakly and strongly augmented versions of\n",
        "the same images to the learning model to make its predictions consistent. For strong\n",
        "augmentation, [RandAugment](https://arxiv.org/abs/1909.13719) is a standard choice. For\n",
        "weak augmentation, we will use horizontal flipping and random cropping."
      ],
      "metadata": {
        "id": "lnz0TIeWjVFB"
      }
    },
    {
      "cell_type": "code",
      "source": [
        "# Initialize `RandAugment` object with 2 layers of\n",
        "# augmentation transforms and strength of 5.\n",
        "augmenter = RandAugment(num_layers=2, magnitude=5)\n",
        "\n",
        "\n",
        "def weak_augment(image, source=True):\n",
        "    if image.dtype != tf.float32:\n",
        "        image = tf.cast(image, tf.float32)\n",
        "\n",
        "    # MNIST images are grayscale, this is why we first convert them to\n",
        "    # RGB images.\n",
        "    if source:\n",
        "        image = tf.image.resize_with_pad(image, RESIZE_TO, RESIZE_TO)\n",
        "        image = tf.tile(image, [1, 1, 3])\n",
        "    image = tf.image.random_flip_left_right(image)\n",
        "    image = tf.image.random_crop(image, (RESIZE_TO, RESIZE_TO, 3))\n",
        "    return image\n",
        "\n",
        "\n",
        "def strong_augment(image, source=True):\n",
        "    if image.dtype != tf.float32:\n",
        "        image = tf.cast(image, tf.float32)\n",
        "\n",
        "    if source:\n",
        "        image = tf.image.resize_with_pad(image, RESIZE_TO, RESIZE_TO)\n",
        "        image = tf.tile(image, [1, 1, 3])\n",
        "    image = augmenter.distort(image)\n",
        "    return image\n"
      ],
      "metadata": {
        "id": "yITQN99FjPkK"
      },
      "execution_count": 6,
      "outputs": []
    },
    {
      "cell_type": "code",
      "source": [
        "\n",
        "def create_individual_ds(ds, aug_func, source=True):\n",
        "    if source:\n",
        "        batch_size = SOURCE_BATCH_SIZE\n",
        "    else:\n",
        "        # During training 3x more target unlabeled samples are shown\n",
        "        # to the model in AdaMatch (Section 3.2 of the paper).\n",
        "        batch_size = TARGET_BATCH_SIZE\n",
        "    ds = ds.shuffle(batch_size * 10, seed=42)\n",
        "\n",
        "    if source:\n",
        "        ds = ds.map(lambda x, y: (aug_func(x), y), num_parallel_calls=AUTO)\n",
        "    else:\n",
        "        ds = ds.map(lambda x, y: (aug_func(x, False), y), num_parallel_calls=AUTO)\n",
        "\n",
        "    ds = ds.batch(batch_size).prefetch(AUTO)\n",
        "    return ds\n"
      ],
      "metadata": {
        "id": "01dUIyhMl5r5"
      },
      "execution_count": 7,
      "outputs": []
    },
    {
      "cell_type": "markdown",
      "source": [
        "`_w` and `_s` suffixes denote weak and strong respectively."
      ],
      "metadata": {
        "id": "pYQteZRrmCro"
      }
    },
    {
      "cell_type": "code",
      "source": [
        "source_ds = tf.data.Dataset.from_tensor_slices((mnist_x_train, mnist_y_train))\n",
        "source_ds_w = create_individual_ds(source_ds, weak_augment)\n",
        "source_ds_s = create_individual_ds(source_ds, strong_augment)\n",
        "final_source_ds = tf.data.Dataset.zip((source_ds_w, source_ds_s))\n",
        "\n",
        "target_ds_w = create_individual_ds(svhn_train, weak_augment, source=False)\n",
        "target_ds_s = create_individual_ds(svhn_train, strong_augment, source=False)\n",
        "final_target_ds = tf.data.Dataset.zip((target_ds_w, target_ds_s))"
      ],
      "metadata": {
        "id": "Jl7yROUjl-Z1"
      },
      "execution_count": 8,
      "outputs": []
    },
    {
      "cell_type": "markdown",
      "source": [
        "Here's what a single image batch looks like:\n",
        "\n",
        "![](https://i.imgur.com/aver8cG.png)"
      ],
      "metadata": {
        "id": "NOHiXrJ9mn2e"
      }
    },
    {
      "cell_type": "code",
      "source": [
        "\n",
        "def compute_loss_source(source_labels, logits_source_w, logits_source_s):\n",
        "    loss_func = keras.losses.CategoricalCrossentropy(from_logits=True)\n",
        "    # First compute the losses between original source labels and\n",
        "    # predictions made on the weakly and strongly augmented versions\n",
        "    # of the same images.\n",
        "    w_loss = loss_func(source_labels, logits_source_w)\n",
        "    s_loss = loss_func(source_labels, logits_source_s)\n",
        "    return w_loss + s_loss\n",
        "\n",
        "\n",
        "def compute_loss_target(target_pseudo_labels_w, logits_target_s, mask):\n",
        "    loss_func = keras.losses.CategoricalCrossentropy(from_logits=True, reduction=\"none\")\n",
        "    target_pseudo_labels_w = tf.stop_gradient(target_pseudo_labels_w)\n",
        "    # For calculating loss for the target samples, we treat the pseudo labels\n",
        "    # as the ground-truth. These are not considered during backpropagation\n",
        "    # which is a standard SSL practice.\n",
        "    target_loss = loss_func(target_pseudo_labels_w, logits_target_s)\n",
        "\n",
        "    # More on `mask` later.\n",
        "    mask = tf.cast(mask, target_loss.dtype)\n",
        "    target_loss *= mask\n",
        "    return tf.reduce_mean(target_loss, 0)\n"
      ],
      "metadata": {
        "id": "5TiNyVEsmE-B"
      },
      "execution_count": 9,
      "outputs": []
    },
    {
      "cell_type": "markdown",
      "source": [
        "## Subclassed model for AdaMatch training\n",
        "\n",
        "The figure below presents the overall workflow of AdaMatch (taken from the\n",
        "[original paper](https://arxiv.org/abs/2106.04732)):\n",
        "\n",
        "![](https://i.imgur.com/1QsEm2M.png)\n",
        "\n",
        "Here's a brief step-by-step breakdown of the workflow:\n",
        "\n",
        "1. We first retrieve the weakly and strongly augmented pairs of images from the source and\n",
        "target datasets.\n",
        "2. We prepare two concatenated copies:\n",
        "    i. One where both pairs are concatenated.\n",
        "    ii. One where only the source data image pair is concatenated.\n",
        "3. We run two forward passes through the model:\n",
        "    i. The first forward pass uses the concatenated copy obtained from **2.i**. In\n",
        "this forward pass, the [Batch Normalization](https://arxiv.org/abs/1502.03167) statistics\n",
        "are updated.\n",
        "    ii. In the second forward pass, we only use the concatenated copy obtained from **2.ii**.\n",
        "    Batch Normalization layers are run in inference mode.\n",
        "4. The respective logits are computed for both the forward passes.\n",
        "5. The logits go through a series of transformations, introduced in the paper (which\n",
        "we will discuss shortly).\n",
        "6. We compute the loss and update the gradients of the underlying model."
      ],
      "metadata": {
        "id": "U63JPxq2oQ1I"
      }
    },
    {
      "cell_type": "code",
      "source": [
        "\n",
        "class AdaMatch(keras.Model):\n",
        "    def __init__(self, model, total_steps, tau=0.9):\n",
        "        super(AdaMatch, self).__init__()\n",
        "        self.model = model\n",
        "        self.tau = tau  # Denotes the confidence threshold\n",
        "        self.loss_tracker = tf.keras.metrics.Mean(name=\"loss\")\n",
        "        self.total_steps = total_steps\n",
        "        self.current_step = tf.Variable(0, dtype=\"int64\")\n",
        "\n",
        "    @property\n",
        "    def metrics(self):\n",
        "        return [self.loss_tracker]\n",
        "\n",
        "    # This is a warmup schedule to update the weight of the\n",
        "    # loss contributed by the target unlabeled samples. More\n",
        "    # on this in the text.\n",
        "    def compute_mu(self):\n",
        "        pi = tf.constant(np.pi, dtype=\"float32\")\n",
        "        step = tf.cast(self.current_step, dtype=\"float32\")\n",
        "        return 0.5 - tf.cos(tf.math.minimum(pi, (2 * pi * step) / self.total_steps)) / 2\n",
        "\n",
        "    def train_step(self, data):\n",
        "        ## Unpack and organize the data ##\n",
        "        source_ds, target_ds = data\n",
        "        (source_w, source_labels), (source_s, _) = source_ds\n",
        "        (\n",
        "            (target_w, _),\n",
        "            (target_s, _),\n",
        "        ) = target_ds  # Notice that we are NOT using any labels here.\n",
        "\n",
        "        combined_images = tf.concat([source_w, source_s, target_w, target_s], 0)\n",
        "        combined_source = tf.concat([source_w, source_s], 0)\n",
        "\n",
        "        total_source = tf.shape(combined_source)[0]\n",
        "        total_target = tf.shape(tf.concat([target_w, target_s], 0))[0]\n",
        "\n",
        "        with tf.GradientTape() as tape:\n",
        "            ## Forward passes ##\n",
        "            combined_logits = self.model(combined_images, training=True)\n",
        "            z_d_prime_source = self.model(\n",
        "                combined_source, training=False\n",
        "            )  # No BatchNorm update.\n",
        "            z_prime_source = combined_logits[:total_source]\n",
        "\n",
        "            ## 1. Random logit interpolation for the source images ##\n",
        "            lambd = tf.random.uniform((total_source, 10), 0, 1)\n",
        "            final_source_logits = (lambd * z_prime_source) + (\n",
        "                (1 - lambd) * z_d_prime_source\n",
        "            )\n",
        "\n",
        "            ## 2. Distribution alignment (only consider weakly augmented images) ##\n",
        "            # Compute softmax for logits of the WEAKLY augmented SOURCE images.\n",
        "            y_hat_source_w = tf.nn.softmax(final_source_logits[: tf.shape(source_w)[0]])\n",
        "\n",
        "            # Extract logits for the WEAKLY augmented TARGET images and compute softmax.\n",
        "            logits_target = combined_logits[total_source:]\n",
        "            logits_target_w = logits_target[: tf.shape(target_w)[0]]\n",
        "            y_hat_target_w = tf.nn.softmax(logits_target_w)\n",
        "\n",
        "            # Align the target label distribution to that of the source.\n",
        "            expectation_ratio = tf.reduce_mean(y_hat_source_w) / tf.reduce_mean(\n",
        "                y_hat_target_w\n",
        "            )\n",
        "            y_tilde_target_w = tf.math.l2_normalize(\n",
        "                y_hat_target_w * expectation_ratio, 1\n",
        "            )\n",
        "\n",
        "            ## 3. Relative confidence thresholding ##\n",
        "            row_wise_max = tf.reduce_max(y_hat_source_w, axis=-1)\n",
        "            final_sum = tf.reduce_mean(row_wise_max, 0)\n",
        "            c_tau = self.tau * final_sum\n",
        "            mask = tf.reduce_max(y_tilde_target_w, axis=-1) >= c_tau\n",
        "\n",
        "            ## Compute losses (pay attention to the indexing) ##\n",
        "            source_loss = compute_loss_source(\n",
        "                source_labels,\n",
        "                final_source_logits[: tf.shape(source_w)[0]],\n",
        "                final_source_logits[tf.shape(source_w)[0] :],\n",
        "            )\n",
        "            target_loss = compute_loss_target(\n",
        "                y_tilde_target_w, logits_target[tf.shape(target_w)[0] :], mask\n",
        "            )\n",
        "\n",
        "            t = self.compute_mu()  # Compute weight for the target loss\n",
        "            total_loss = source_loss + (t * target_loss)\n",
        "            self.current_step.assign_add(\n",
        "                1\n",
        "            )  # Update current training step for the scheduler\n",
        "\n",
        "        gradients = tape.gradient(total_loss, self.model.trainable_variables)\n",
        "        self.optimizer.apply_gradients(zip(gradients, self.model.trainable_variables))\n",
        "\n",
        "        self.loss_tracker.update_state(total_loss)\n",
        "        return {\"loss\": self.loss_tracker.result()}\n"
      ],
      "metadata": {
        "id": "0U7D_f1YoOne"
      },
      "execution_count": 10,
      "outputs": []
    },
    {
      "cell_type": "markdown",
      "source": [
        "The authors introduce three improvements in the paper:\n",
        "\n",
        "* In AdaMatch, we perform two forward passes, and only one of them is respsonsible for\n",
        "updating the Batch Normalization statistics. This is done to account for distribution\n",
        "shifts in the target dataset. In the other forward pass, we only use the source sample,\n",
        "and the Batch Normalization layers are run in inference mode. Logits for the source\n",
        "samples (weakly and strongly augmented versions) from these two passes are slightly\n",
        "different from one another because of how Batch Normalization layers are run. Final\n",
        "logits for the source samples are computed by linearly interpolating between these two\n",
        "different pairs of logits. This induces a form of consistency regularization. This step\n",
        "is referred to as **random logit interpolation**.\n",
        "* **Distribution alignment** is used to align the source and target label distributions.\n",
        "This further helps the underlying model learn *domain-invariant representations*. In case\n",
        "of unsupervised domain adaptation, we don't have access to any labels of the target\n",
        "dataset. This is why pseudo labels are generated from the underlying model.\n",
        "* The underlying model generates pseudo-labels for the target samples. It's likely that\n",
        "the model would make faulty predictions. Those can propagate back as we make progress in\n",
        "the training, and hurt the overall performance. To compensate for that, we filter the\n",
        "high-confidence predictions based on a threshold (hence the use of `mask` inside\n",
        "`compute_loss_target()`). In AdaMatch, this threshold is relatively adjusted which is why\n",
        "it is called **relative confidence thresholding**.\n",
        "\n",
        "For more details on these methods and to know how each of them contribute please refer to\n",
        "[the paper](https://arxiv.org/abs/2106.04732).\n",
        "\n",
        "**About `compute_mu()`**:\n",
        "\n",
        "Rather than using a fixed scalar quantity, a varying scalar is used in AdaMatch. It\n",
        "denotes the weight of the loss contibuted by the target samples. Visually, the weight\n",
        "scheduler look like so:\n",
        "\n",
        "![](https://i.imgur.com/dG7i9uH.png)\n",
        "\n",
        "This scheduler increases the weight of the target domain loss from 0 to 1 for the first\n",
        "half of the training. Then it keeps that weight at 1 for the second half of the training."
      ],
      "metadata": {
        "id": "nC3CP8T3oXBk"
      }
    },
    {
      "cell_type": "markdown",
      "source": [
        "## Instantiate a Wide-ResNet-28-2\n",
        "\n",
        "The authors use a [WideResNet-28-2](https://arxiv.org/abs/1605.07146) for the dataset\n",
        "pairs we are using in this example. Most of the following code has been referred from\n",
        "[this script](https://github.com/asmith26/wide_resnets_keras/blob/master/main.py). Note\n",
        "that the following model has a scaling layer inside it that scales the pixel values to\n",
        "[0, 1]."
      ],
      "metadata": {
        "id": "oDxuN0FloaPI"
      }
    },
    {
      "cell_type": "code",
      "source": [
        "\n",
        "def wide_basic(x, n_input_plane, n_output_plane, stride):\n",
        "    conv_params = [[3, 3, stride, \"same\"], [3, 3, (1, 1), \"same\"]]\n",
        "\n",
        "    n_bottleneck_plane = n_output_plane\n",
        "\n",
        "    # Residual block\n",
        "    for i, v in enumerate(conv_params):\n",
        "        if i == 0:\n",
        "            if n_input_plane != n_output_plane:\n",
        "                x = layers.BatchNormalization()(x)\n",
        "                x = layers.Activation(\"relu\")(x)\n",
        "                convs = x\n",
        "            else:\n",
        "                convs = layers.BatchNormalization()(x)\n",
        "                convs = layers.Activation(\"relu\")(convs)\n",
        "            convs = layers.Conv2D(\n",
        "                n_bottleneck_plane,\n",
        "                (v[0], v[1]),\n",
        "                strides=v[2],\n",
        "                padding=v[3],\n",
        "                kernel_initializer=INIT,\n",
        "                kernel_regularizer=regularizers.l2(WEIGHT_DECAY),\n",
        "                use_bias=False,\n",
        "            )(convs)\n",
        "        else:\n",
        "            convs = layers.BatchNormalization()(convs)\n",
        "            convs = layers.Activation(\"relu\")(convs)\n",
        "            convs = layers.Conv2D(\n",
        "                n_bottleneck_plane,\n",
        "                (v[0], v[1]),\n",
        "                strides=v[2],\n",
        "                padding=v[3],\n",
        "                kernel_initializer=INIT,\n",
        "                kernel_regularizer=regularizers.l2(WEIGHT_DECAY),\n",
        "                use_bias=False,\n",
        "            )(convs)\n",
        "\n",
        "    # Shortcut connection: identity function or 1x1\n",
        "    # convolutional\n",
        "    #  (depends on difference between input & output shape - this\n",
        "    #   corresponds to whether we are using the first block in\n",
        "    #   each\n",
        "    #   group; see `block_series()`).\n",
        "    if n_input_plane != n_output_plane:\n",
        "        shortcut = layers.Conv2D(\n",
        "            n_output_plane,\n",
        "            (1, 1),\n",
        "            strides=stride,\n",
        "            padding=\"same\",\n",
        "            kernel_initializer=INIT,\n",
        "            kernel_regularizer=regularizers.l2(WEIGHT_DECAY),\n",
        "            use_bias=False,\n",
        "        )(x)\n",
        "    else:\n",
        "        shortcut = x\n",
        "\n",
        "    return layers.Add()([convs, shortcut])\n",
        "\n",
        "\n",
        "# Stacking residual units on the same stage\n",
        "def block_series(x, n_input_plane, n_output_plane, count, stride):\n",
        "    x = wide_basic(x, n_input_plane, n_output_plane, stride)\n",
        "    for i in range(2, int(count + 1)):\n",
        "        x = wide_basic(x, n_output_plane, n_output_plane, stride=1)\n",
        "    return x\n",
        "\n",
        "\n",
        "def get_network(image_size=32, num_classes=10):\n",
        "    n = (DEPTH - 4) / 6\n",
        "    n_stages = [16, 16 * WIDTH_MULT, 32 * WIDTH_MULT, 64 * WIDTH_MULT]\n",
        "\n",
        "    inputs = keras.Input(shape=(image_size, image_size, 3))\n",
        "    x = layers.Rescaling(scale=1.0 / 255)(inputs)\n",
        "\n",
        "    conv1 = layers.Conv2D(\n",
        "        n_stages[0],\n",
        "        (3, 3),\n",
        "        strides=1,\n",
        "        padding=\"same\",\n",
        "        kernel_initializer=INIT,\n",
        "        kernel_regularizer=regularizers.l2(WEIGHT_DECAY),\n",
        "        use_bias=False,\n",
        "    )(x)\n",
        "\n",
        "    ## Add wide residual blocks ##\n",
        "\n",
        "    conv2 = block_series(\n",
        "        conv1,\n",
        "        n_input_plane=n_stages[0],\n",
        "        n_output_plane=n_stages[1],\n",
        "        count=n,\n",
        "        stride=(1, 1),\n",
        "    )  # Stage 1\n",
        "\n",
        "    conv3 = block_series(\n",
        "        conv2,\n",
        "        n_input_plane=n_stages[1],\n",
        "        n_output_plane=n_stages[2],\n",
        "        count=n,\n",
        "        stride=(2, 2),\n",
        "    )  # Stage 2\n",
        "\n",
        "    conv4 = block_series(\n",
        "        conv3,\n",
        "        n_input_plane=n_stages[2],\n",
        "        n_output_plane=n_stages[3],\n",
        "        count=n,\n",
        "        stride=(2, 2),\n",
        "    )  # Stage 3\n",
        "\n",
        "    batch_norm = layers.BatchNormalization()(conv4)\n",
        "    relu = layers.Activation(\"relu\")(batch_norm)\n",
        "\n",
        "    # Classifier\n",
        "    trunk_outputs = layers.GlobalAveragePooling2D()(relu)\n",
        "    outputs = layers.Dense(\n",
        "        num_classes, kernel_regularizer=regularizers.l2(WEIGHT_DECAY)\n",
        "    )(trunk_outputs)\n",
        "\n",
        "    return keras.Model(inputs, outputs)\n"
      ],
      "metadata": {
        "id": "Td8S7NwEoU71"
      },
      "execution_count": 11,
      "outputs": []
    },
    {
      "cell_type": "markdown",
      "source": [
        "We can now instantiate a Wide ResNet model like so. Note that the purpose of using a\n",
        "Wide ResNet here is to keep the implementation as close to the original one\n",
        "as possible."
      ],
      "metadata": {
        "id": "JmU5zhBtoe9B"
      }
    },
    {
      "cell_type": "code",
      "source": [
        "wrn_model = get_network()\n",
        "print(f\"Model has {wrn_model.count_params()/1e6} Million parameters.\")"
      ],
      "metadata": {
        "colab": {
          "base_uri": "https://localhost:8080/"
        },
        "id": "bEyQ8uEQoci9",
        "outputId": "352f9c39-e8e0-49b6-e4aa-154d7eb4a2ac"
      },
      "execution_count": 12,
      "outputs": [
        {
          "output_type": "stream",
          "name": "stdout",
          "text": [
            "Model has 1.471226 Million parameters.\n"
          ]
        }
      ]
    },
    {
      "cell_type": "code",
      "source": [
        "reduce_lr = keras.optimizers.schedules.CosineDecay(LEARNING_RATE, TOTAL_STEPS, 0.25)\n",
        "optimizer = keras.optimizers.Adam(reduce_lr)\n",
        "\n",
        "adamatch_trainer = AdaMatch(model=wrn_model, total_steps=TOTAL_STEPS)\n",
        "adamatch_trainer.compile(optimizer=optimizer)"
      ],
      "metadata": {
        "id": "GSw5hDiholiB"
      },
      "execution_count": 13,
      "outputs": []
    },
    {
      "cell_type": "code",
      "source": [
        "total_ds = tf.data.Dataset.zip((final_source_ds, final_target_ds))\n",
        "adamatch_trainer.fit(total_ds, epochs=EPOCHS)"
      ],
      "metadata": {
        "colab": {
          "base_uri": "https://localhost:8080/",
          "height": 364
        },
        "id": "FTXV5NhSoosp",
        "outputId": "0d06aed0-e8a1-4853-ba16-a4562bb3c1a9"
      },
      "execution_count": 14,
      "outputs": [
        {
          "output_type": "stream",
          "name": "stdout",
          "text": [
            "Epoch 1/10\n",
            " 30/382 [=>............................] - ETA: 2:25:43 - loss: 1831495663616.0000"
          ]
        },
        {
          "output_type": "error",
          "ename": "KeyboardInterrupt",
          "evalue": "ignored",
          "traceback": [
            "\u001b[0;31m---------------------------------------------------------------------------\u001b[0m",
            "\u001b[0;31mKeyboardInterrupt\u001b[0m                         Traceback (most recent call last)",
            "\u001b[0;32m<ipython-input-14-32a4dec1df49>\u001b[0m in \u001b[0;36m<module>\u001b[0;34m()\u001b[0m\n\u001b[1;32m      1\u001b[0m \u001b[0mtotal_ds\u001b[0m \u001b[0;34m=\u001b[0m \u001b[0mtf\u001b[0m\u001b[0;34m.\u001b[0m\u001b[0mdata\u001b[0m\u001b[0;34m.\u001b[0m\u001b[0mDataset\u001b[0m\u001b[0;34m.\u001b[0m\u001b[0mzip\u001b[0m\u001b[0;34m(\u001b[0m\u001b[0;34m(\u001b[0m\u001b[0mfinal_source_ds\u001b[0m\u001b[0;34m,\u001b[0m \u001b[0mfinal_target_ds\u001b[0m\u001b[0;34m)\u001b[0m\u001b[0;34m)\u001b[0m\u001b[0;34m\u001b[0m\u001b[0;34m\u001b[0m\u001b[0m\n\u001b[0;32m----> 2\u001b[0;31m \u001b[0madamatch_trainer\u001b[0m\u001b[0;34m.\u001b[0m\u001b[0mfit\u001b[0m\u001b[0;34m(\u001b[0m\u001b[0mtotal_ds\u001b[0m\u001b[0;34m,\u001b[0m \u001b[0mepochs\u001b[0m\u001b[0;34m=\u001b[0m\u001b[0mEPOCHS\u001b[0m\u001b[0;34m)\u001b[0m\u001b[0;34m\u001b[0m\u001b[0;34m\u001b[0m\u001b[0m\n\u001b[0m",
            "\u001b[0;32m/usr/local/lib/python3.7/dist-packages/keras/utils/traceback_utils.py\u001b[0m in \u001b[0;36merror_handler\u001b[0;34m(*args, **kwargs)\u001b[0m\n\u001b[1;32m     62\u001b[0m     \u001b[0mfiltered_tb\u001b[0m \u001b[0;34m=\u001b[0m \u001b[0;32mNone\u001b[0m\u001b[0;34m\u001b[0m\u001b[0;34m\u001b[0m\u001b[0m\n\u001b[1;32m     63\u001b[0m     \u001b[0;32mtry\u001b[0m\u001b[0;34m:\u001b[0m\u001b[0;34m\u001b[0m\u001b[0;34m\u001b[0m\u001b[0m\n\u001b[0;32m---> 64\u001b[0;31m       \u001b[0;32mreturn\u001b[0m \u001b[0mfn\u001b[0m\u001b[0;34m(\u001b[0m\u001b[0;34m*\u001b[0m\u001b[0margs\u001b[0m\u001b[0;34m,\u001b[0m \u001b[0;34m**\u001b[0m\u001b[0mkwargs\u001b[0m\u001b[0;34m)\u001b[0m\u001b[0;34m\u001b[0m\u001b[0;34m\u001b[0m\u001b[0m\n\u001b[0m\u001b[1;32m     65\u001b[0m     \u001b[0;32mexcept\u001b[0m \u001b[0mException\u001b[0m \u001b[0;32mas\u001b[0m \u001b[0me\u001b[0m\u001b[0;34m:\u001b[0m  \u001b[0;31m# pylint: disable=broad-except\u001b[0m\u001b[0;34m\u001b[0m\u001b[0;34m\u001b[0m\u001b[0m\n\u001b[1;32m     66\u001b[0m       \u001b[0mfiltered_tb\u001b[0m \u001b[0;34m=\u001b[0m \u001b[0m_process_traceback_frames\u001b[0m\u001b[0;34m(\u001b[0m\u001b[0me\u001b[0m\u001b[0;34m.\u001b[0m\u001b[0m__traceback__\u001b[0m\u001b[0;34m)\u001b[0m\u001b[0;34m\u001b[0m\u001b[0;34m\u001b[0m\u001b[0m\n",
            "\u001b[0;32m/usr/local/lib/python3.7/dist-packages/keras/engine/training.py\u001b[0m in \u001b[0;36mfit\u001b[0;34m(self, x, y, batch_size, epochs, verbose, callbacks, validation_split, validation_data, shuffle, class_weight, sample_weight, initial_epoch, steps_per_epoch, validation_steps, validation_batch_size, validation_freq, max_queue_size, workers, use_multiprocessing)\u001b[0m\n\u001b[1;32m   1407\u001b[0m                 _r=1):\n\u001b[1;32m   1408\u001b[0m               \u001b[0mcallbacks\u001b[0m\u001b[0;34m.\u001b[0m\u001b[0mon_train_batch_begin\u001b[0m\u001b[0;34m(\u001b[0m\u001b[0mstep\u001b[0m\u001b[0;34m)\u001b[0m\u001b[0;34m\u001b[0m\u001b[0;34m\u001b[0m\u001b[0m\n\u001b[0;32m-> 1409\u001b[0;31m               \u001b[0mtmp_logs\u001b[0m \u001b[0;34m=\u001b[0m \u001b[0mself\u001b[0m\u001b[0;34m.\u001b[0m\u001b[0mtrain_function\u001b[0m\u001b[0;34m(\u001b[0m\u001b[0miterator\u001b[0m\u001b[0;34m)\u001b[0m\u001b[0;34m\u001b[0m\u001b[0;34m\u001b[0m\u001b[0m\n\u001b[0m\u001b[1;32m   1410\u001b[0m               \u001b[0;32mif\u001b[0m \u001b[0mdata_handler\u001b[0m\u001b[0;34m.\u001b[0m\u001b[0mshould_sync\u001b[0m\u001b[0;34m:\u001b[0m\u001b[0;34m\u001b[0m\u001b[0;34m\u001b[0m\u001b[0m\n\u001b[1;32m   1411\u001b[0m                 \u001b[0mcontext\u001b[0m\u001b[0;34m.\u001b[0m\u001b[0masync_wait\u001b[0m\u001b[0;34m(\u001b[0m\u001b[0;34m)\u001b[0m\u001b[0;34m\u001b[0m\u001b[0;34m\u001b[0m\u001b[0m\n",
            "\u001b[0;32m/usr/local/lib/python3.7/dist-packages/tensorflow/python/util/traceback_utils.py\u001b[0m in \u001b[0;36merror_handler\u001b[0;34m(*args, **kwargs)\u001b[0m\n\u001b[1;32m    148\u001b[0m     \u001b[0mfiltered_tb\u001b[0m \u001b[0;34m=\u001b[0m \u001b[0;32mNone\u001b[0m\u001b[0;34m\u001b[0m\u001b[0;34m\u001b[0m\u001b[0m\n\u001b[1;32m    149\u001b[0m     \u001b[0;32mtry\u001b[0m\u001b[0;34m:\u001b[0m\u001b[0;34m\u001b[0m\u001b[0;34m\u001b[0m\u001b[0m\n\u001b[0;32m--> 150\u001b[0;31m       \u001b[0;32mreturn\u001b[0m \u001b[0mfn\u001b[0m\u001b[0;34m(\u001b[0m\u001b[0;34m*\u001b[0m\u001b[0margs\u001b[0m\u001b[0;34m,\u001b[0m \u001b[0;34m**\u001b[0m\u001b[0mkwargs\u001b[0m\u001b[0;34m)\u001b[0m\u001b[0;34m\u001b[0m\u001b[0;34m\u001b[0m\u001b[0m\n\u001b[0m\u001b[1;32m    151\u001b[0m     \u001b[0;32mexcept\u001b[0m \u001b[0mException\u001b[0m \u001b[0;32mas\u001b[0m \u001b[0me\u001b[0m\u001b[0;34m:\u001b[0m\u001b[0;34m\u001b[0m\u001b[0;34m\u001b[0m\u001b[0m\n\u001b[1;32m    152\u001b[0m       \u001b[0mfiltered_tb\u001b[0m \u001b[0;34m=\u001b[0m \u001b[0m_process_traceback_frames\u001b[0m\u001b[0;34m(\u001b[0m\u001b[0me\u001b[0m\u001b[0;34m.\u001b[0m\u001b[0m__traceback__\u001b[0m\u001b[0;34m)\u001b[0m\u001b[0;34m\u001b[0m\u001b[0;34m\u001b[0m\u001b[0m\n",
            "\u001b[0;32m/usr/local/lib/python3.7/dist-packages/tensorflow/python/eager/def_function.py\u001b[0m in \u001b[0;36m__call__\u001b[0;34m(self, *args, **kwds)\u001b[0m\n\u001b[1;32m    913\u001b[0m \u001b[0;34m\u001b[0m\u001b[0m\n\u001b[1;32m    914\u001b[0m       \u001b[0;32mwith\u001b[0m \u001b[0mOptionalXlaContext\u001b[0m\u001b[0;34m(\u001b[0m\u001b[0mself\u001b[0m\u001b[0;34m.\u001b[0m\u001b[0m_jit_compile\u001b[0m\u001b[0;34m)\u001b[0m\u001b[0;34m:\u001b[0m\u001b[0;34m\u001b[0m\u001b[0;34m\u001b[0m\u001b[0m\n\u001b[0;32m--> 915\u001b[0;31m         \u001b[0mresult\u001b[0m \u001b[0;34m=\u001b[0m \u001b[0mself\u001b[0m\u001b[0;34m.\u001b[0m\u001b[0m_call\u001b[0m\u001b[0;34m(\u001b[0m\u001b[0;34m*\u001b[0m\u001b[0margs\u001b[0m\u001b[0;34m,\u001b[0m \u001b[0;34m**\u001b[0m\u001b[0mkwds\u001b[0m\u001b[0;34m)\u001b[0m\u001b[0;34m\u001b[0m\u001b[0;34m\u001b[0m\u001b[0m\n\u001b[0m\u001b[1;32m    916\u001b[0m \u001b[0;34m\u001b[0m\u001b[0m\n\u001b[1;32m    917\u001b[0m       \u001b[0mnew_tracing_count\u001b[0m \u001b[0;34m=\u001b[0m \u001b[0mself\u001b[0m\u001b[0;34m.\u001b[0m\u001b[0mexperimental_get_tracing_count\u001b[0m\u001b[0;34m(\u001b[0m\u001b[0;34m)\u001b[0m\u001b[0;34m\u001b[0m\u001b[0;34m\u001b[0m\u001b[0m\n",
            "\u001b[0;32m/usr/local/lib/python3.7/dist-packages/tensorflow/python/eager/def_function.py\u001b[0m in \u001b[0;36m_call\u001b[0;34m(self, *args, **kwds)\u001b[0m\n\u001b[1;32m    945\u001b[0m       \u001b[0;31m# In this case we have created variables on the first call, so we run the\u001b[0m\u001b[0;34m\u001b[0m\u001b[0;34m\u001b[0m\u001b[0;34m\u001b[0m\u001b[0m\n\u001b[1;32m    946\u001b[0m       \u001b[0;31m# defunned version which is guaranteed to never create variables.\u001b[0m\u001b[0;34m\u001b[0m\u001b[0;34m\u001b[0m\u001b[0;34m\u001b[0m\u001b[0m\n\u001b[0;32m--> 947\u001b[0;31m       \u001b[0;32mreturn\u001b[0m \u001b[0mself\u001b[0m\u001b[0;34m.\u001b[0m\u001b[0m_stateless_fn\u001b[0m\u001b[0;34m(\u001b[0m\u001b[0;34m*\u001b[0m\u001b[0margs\u001b[0m\u001b[0;34m,\u001b[0m \u001b[0;34m**\u001b[0m\u001b[0mkwds\u001b[0m\u001b[0;34m)\u001b[0m  \u001b[0;31m# pylint: disable=not-callable\u001b[0m\u001b[0;34m\u001b[0m\u001b[0;34m\u001b[0m\u001b[0m\n\u001b[0m\u001b[1;32m    948\u001b[0m     \u001b[0;32melif\u001b[0m \u001b[0mself\u001b[0m\u001b[0;34m.\u001b[0m\u001b[0m_stateful_fn\u001b[0m \u001b[0;32mis\u001b[0m \u001b[0;32mnot\u001b[0m \u001b[0;32mNone\u001b[0m\u001b[0;34m:\u001b[0m\u001b[0;34m\u001b[0m\u001b[0;34m\u001b[0m\u001b[0m\n\u001b[1;32m    949\u001b[0m       \u001b[0;31m# Release the lock early so that multiple threads can perform the call\u001b[0m\u001b[0;34m\u001b[0m\u001b[0;34m\u001b[0m\u001b[0;34m\u001b[0m\u001b[0m\n",
            "\u001b[0;32m/usr/local/lib/python3.7/dist-packages/tensorflow/python/eager/function.py\u001b[0m in \u001b[0;36m__call__\u001b[0;34m(self, *args, **kwargs)\u001b[0m\n\u001b[1;32m   2452\u001b[0m        filtered_flat_args) = self._maybe_define_function(args, kwargs)\n\u001b[1;32m   2453\u001b[0m     return graph_function._call_flat(\n\u001b[0;32m-> 2454\u001b[0;31m         filtered_flat_args, captured_inputs=graph_function.captured_inputs)  # pylint: disable=protected-access\n\u001b[0m\u001b[1;32m   2455\u001b[0m \u001b[0;34m\u001b[0m\u001b[0m\n\u001b[1;32m   2456\u001b[0m   \u001b[0;34m@\u001b[0m\u001b[0mproperty\u001b[0m\u001b[0;34m\u001b[0m\u001b[0;34m\u001b[0m\u001b[0m\n",
            "\u001b[0;32m/usr/local/lib/python3.7/dist-packages/tensorflow/python/eager/function.py\u001b[0m in \u001b[0;36m_call_flat\u001b[0;34m(self, args, captured_inputs, cancellation_manager)\u001b[0m\n\u001b[1;32m   1859\u001b[0m       \u001b[0;31m# No tape is watching; skip to running the function.\u001b[0m\u001b[0;34m\u001b[0m\u001b[0;34m\u001b[0m\u001b[0;34m\u001b[0m\u001b[0m\n\u001b[1;32m   1860\u001b[0m       return self._build_call_outputs(self._inference_function.call(\n\u001b[0;32m-> 1861\u001b[0;31m           ctx, args, cancellation_manager=cancellation_manager))\n\u001b[0m\u001b[1;32m   1862\u001b[0m     forward_backward = self._select_forward_and_backward_functions(\n\u001b[1;32m   1863\u001b[0m         \u001b[0margs\u001b[0m\u001b[0;34m,\u001b[0m\u001b[0;34m\u001b[0m\u001b[0;34m\u001b[0m\u001b[0m\n",
            "\u001b[0;32m/usr/local/lib/python3.7/dist-packages/tensorflow/python/eager/function.py\u001b[0m in \u001b[0;36mcall\u001b[0;34m(self, ctx, args, cancellation_manager)\u001b[0m\n\u001b[1;32m    500\u001b[0m               \u001b[0minputs\u001b[0m\u001b[0;34m=\u001b[0m\u001b[0margs\u001b[0m\u001b[0;34m,\u001b[0m\u001b[0;34m\u001b[0m\u001b[0;34m\u001b[0m\u001b[0m\n\u001b[1;32m    501\u001b[0m               \u001b[0mattrs\u001b[0m\u001b[0;34m=\u001b[0m\u001b[0mattrs\u001b[0m\u001b[0;34m,\u001b[0m\u001b[0;34m\u001b[0m\u001b[0;34m\u001b[0m\u001b[0m\n\u001b[0;32m--> 502\u001b[0;31m               ctx=ctx)\n\u001b[0m\u001b[1;32m    503\u001b[0m         \u001b[0;32melse\u001b[0m\u001b[0;34m:\u001b[0m\u001b[0;34m\u001b[0m\u001b[0;34m\u001b[0m\u001b[0m\n\u001b[1;32m    504\u001b[0m           outputs = execute.execute_with_cancellation(\n",
            "\u001b[0;32m/usr/local/lib/python3.7/dist-packages/tensorflow/python/eager/execute.py\u001b[0m in \u001b[0;36mquick_execute\u001b[0;34m(op_name, num_outputs, inputs, attrs, ctx, name)\u001b[0m\n\u001b[1;32m     53\u001b[0m     \u001b[0mctx\u001b[0m\u001b[0;34m.\u001b[0m\u001b[0mensure_initialized\u001b[0m\u001b[0;34m(\u001b[0m\u001b[0;34m)\u001b[0m\u001b[0;34m\u001b[0m\u001b[0;34m\u001b[0m\u001b[0m\n\u001b[1;32m     54\u001b[0m     tensors = pywrap_tfe.TFE_Py_Execute(ctx._handle, device_name, op_name,\n\u001b[0;32m---> 55\u001b[0;31m                                         inputs, attrs, num_outputs)\n\u001b[0m\u001b[1;32m     56\u001b[0m   \u001b[0;32mexcept\u001b[0m \u001b[0mcore\u001b[0m\u001b[0;34m.\u001b[0m\u001b[0m_NotOkStatusException\u001b[0m \u001b[0;32mas\u001b[0m \u001b[0me\u001b[0m\u001b[0;34m:\u001b[0m\u001b[0;34m\u001b[0m\u001b[0;34m\u001b[0m\u001b[0m\n\u001b[1;32m     57\u001b[0m     \u001b[0;32mif\u001b[0m \u001b[0mname\u001b[0m \u001b[0;32mis\u001b[0m \u001b[0;32mnot\u001b[0m \u001b[0;32mNone\u001b[0m\u001b[0;34m:\u001b[0m\u001b[0;34m\u001b[0m\u001b[0;34m\u001b[0m\u001b[0m\n",
            "\u001b[0;31mKeyboardInterrupt\u001b[0m: "
          ]
        }
      ]
    },
    {
      "cell_type": "markdown",
      "source": [
        "Interrepted owing to more consumption of time. These methodology like Adamatch hardly find any relevance in commercial space. They are mostly for research purposes. Hence once should try and understand the concept and save this sample implementation from Keras notebook for future. "
      ],
      "metadata": {
        "id": "YWibFEAOr2nf"
      }
    },
    {
      "cell_type": "code",
      "source": [
        "# Compile the AdaMatch model to yield accuracy.\n",
        "adamatch_trained_model = adamatch_trainer.model\n",
        "adamatch_trained_model.compile(metrics=keras.metrics.SparseCategoricalAccuracy())\n",
        "\n",
        "# Score on the target test set.\n",
        "svhn_test = svhn_test.batch(TARGET_BATCH_SIZE).prefetch(AUTO)\n",
        "_, accuracy = adamatch_trained_model.evaluate(svhn_test)\n",
        "print(f\"Accuracy on target test set: {accuracy * 100:.2f}%\")"
      ],
      "metadata": {
        "id": "wzHa-62eoq_u"
      },
      "execution_count": null,
      "outputs": []
    },
    {
      "cell_type": "markdown",
      "source": [
        "With more training, this score improves. When this same network is trained with\n",
        "standard classification objective, it yields an accuracy of **7.20%** which is\n",
        "significantly lower than what we got with AdaMatch. You can check out\n",
        "[this notebook](https://colab.research.google.com/github/sayakpaul/AdaMatch-TF/blob/main/Vanilla_WideResNet.ipynb)\n",
        "to learn more about the hyperparameters and other experimental details."
      ],
      "metadata": {
        "id": "0TDd88W_ovqn"
      }
    },
    {
      "cell_type": "code",
      "source": [
        "\n",
        "# Utility function for preprocessing the source test set.\n",
        "def prepare_test_ds_source(image, label):\n",
        "    image = tf.image.resize_with_pad(image, RESIZE_TO, RESIZE_TO)\n",
        "    image = tf.tile(image, [1, 1, 3])\n",
        "    return image, label\n",
        "\n",
        "\n",
        "source_test_ds = tf.data.Dataset.from_tensor_slices((mnist_x_test, mnist_y_test))\n",
        "source_test_ds = (\n",
        "    source_test_ds.map(prepare_test_ds_source, num_parallel_calls=AUTO)\n",
        "    .batch(TARGET_BATCH_SIZE)\n",
        "    .prefetch(AUTO)\n",
        ")\n",
        "\n",
        "# Evaluation on the source test set.\n",
        "_, accuracy = adamatch_trained_model.evaluate(source_test_ds)\n",
        "print(f\"Accuracy on source test set: {accuracy * 100:.2f}%\")"
      ],
      "metadata": {
        "id": "FYXfvoIiowfX"
      },
      "execution_count": null,
      "outputs": []
    },
    {
      "cell_type": "markdown",
      "source": [
        "You can reproduce the results by using these\n",
        "[model weights](https://github.com/sayakpaul/AdaMatch-TF/releases/tag/v1.0.0)."
      ],
      "metadata": {
        "id": "KcZg9OrPo2c_"
      }
    }
  ]
}